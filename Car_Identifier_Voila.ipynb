{
  "cells": [
    {
      "cell_type": "markdown",
      "metadata": {
        "id": "view-in-github",
        "colab_type": "text"
      },
      "source": [
        "<a href=\"https://colab.research.google.com/github/TosinPhillip/What-maker/blob/main/Car_Identifier_Voila.ipynb\" target=\"_parent\"><img src=\"https://colab.research.google.com/assets/colab-badge.svg\" alt=\"Open In Colab\"/></a>"
      ]
    },
    {
      "cell_type": "code",
      "execution_count": 44,
      "metadata": {
        "colab": {
          "base_uri": "https://localhost:8080/"
        },
        "id": "sCUNZOSAk4hA",
        "outputId": "12bc63ac-d75a-4ee1-e7f8-8a46f655f61e"
      },
      "outputs": [
        {
          "output_type": "stream",
          "name": "stdout",
          "text": [
            "Looking in indexes: https://pypi.org/simple, https://us-python.pkg.dev/colab-wheels/public/simple/\n",
            "Requirement already satisfied: voila in /usr/local/lib/python3.8/dist-packages (0.4.0)\n",
            "Requirement already satisfied: websockets>=9.0 in /usr/local/lib/python3.8/dist-packages (from voila) (10.4)\n",
            "Requirement already satisfied: jupyterlab-server<3,>=2.3.0 in /usr/local/lib/python3.8/dist-packages (from voila) (2.16.5)\n",
            "Collecting nbconvert<8,>=6.4.5\n",
            "  Using cached nbconvert-7.2.6-py3-none-any.whl (273 kB)\n",
            "Requirement already satisfied: jupyter-server<2.0.0,>=1.18 in /usr/local/lib/python3.8/dist-packages (from voila) (1.23.3)\n",
            "Requirement already satisfied: traitlets<6,>=5.0.3 in /usr/local/lib/python3.8/dist-packages (from voila) (5.6.0)\n",
            "Requirement already satisfied: jupyter-client<=7.4.1,>=6.1.3 in /usr/local/lib/python3.8/dist-packages (from voila) (6.1.12)\n",
            "Requirement already satisfied: nbclient<0.8,>=0.4.0 in /usr/local/lib/python3.8/dist-packages (from voila) (0.7.2)\n",
            "Requirement already satisfied: jupyter-core>=4.11.0 in /usr/local/lib/python3.8/dist-packages (from voila) (5.1.0)\n",
            "Requirement already satisfied: pyzmq>=13 in /usr/local/lib/python3.8/dist-packages (from jupyter-client<=7.4.1,>=6.1.3->voila) (23.2.1)\n",
            "Requirement already satisfied: tornado>=4.1 in /usr/local/lib/python3.8/dist-packages (from jupyter-client<=7.4.1,>=6.1.3->voila) (6.2)\n",
            "Requirement already satisfied: python-dateutil>=2.1 in /usr/local/lib/python3.8/dist-packages (from jupyter-client<=7.4.1,>=6.1.3->voila) (2.8.2)\n",
            "Requirement already satisfied: platformdirs>=2.5 in /usr/local/lib/python3.8/dist-packages (from jupyter-core>=4.11.0->voila) (2.5.4)\n",
            "Requirement already satisfied: prometheus-client in /usr/local/lib/python3.8/dist-packages (from jupyter-server<2.0.0,>=1.18->voila) (0.15.0)\n",
            "Requirement already satisfied: websocket-client in /usr/local/lib/python3.8/dist-packages (from jupyter-server<2.0.0,>=1.18->voila) (1.4.2)\n",
            "Requirement already satisfied: terminado>=0.8.3 in /usr/local/lib/python3.8/dist-packages (from jupyter-server<2.0.0,>=1.18->voila) (0.13.3)\n",
            "Requirement already satisfied: Send2Trash in /usr/local/lib/python3.8/dist-packages (from jupyter-server<2.0.0,>=1.18->voila) (1.8.0)\n",
            "Requirement already satisfied: jinja2 in /usr/local/lib/python3.8/dist-packages (from jupyter-server<2.0.0,>=1.18->voila) (3.0.0)\n",
            "Requirement already satisfied: anyio<4,>=3.1.0 in /usr/local/lib/python3.8/dist-packages (from jupyter-server<2.0.0,>=1.18->voila) (3.6.2)\n",
            "Requirement already satisfied: packaging in /usr/local/lib/python3.8/dist-packages (from jupyter-server<2.0.0,>=1.18->voila) (21.3)\n",
            "Requirement already satisfied: nbformat>=5.2.0 in /usr/local/lib/python3.8/dist-packages (from jupyter-server<2.0.0,>=1.18->voila) (5.7.0)\n",
            "Requirement already satisfied: argon2-cffi in /usr/local/lib/python3.8/dist-packages (from jupyter-server<2.0.0,>=1.18->voila) (21.3.0)\n",
            "Requirement already satisfied: idna>=2.8 in /usr/local/lib/python3.8/dist-packages (from anyio<4,>=3.1.0->jupyter-server<2.0.0,>=1.18->voila) (2.10)\n",
            "Requirement already satisfied: sniffio>=1.1 in /usr/local/lib/python3.8/dist-packages (from anyio<4,>=3.1.0->jupyter-server<2.0.0,>=1.18->voila) (1.3.0)\n",
            "Requirement already satisfied: jsonschema>=3.0.1 in /usr/local/lib/python3.8/dist-packages (from jupyterlab-server<3,>=2.3.0->voila) (4.3.3)\n",
            "Requirement already satisfied: json5>=0.9.0 in /usr/local/lib/python3.8/dist-packages (from jupyterlab-server<3,>=2.3.0->voila) (0.9.10)\n",
            "Requirement already satisfied: importlib-metadata>=4.8.3 in /usr/local/lib/python3.8/dist-packages (from jupyterlab-server<3,>=2.3.0->voila) (4.13.0)\n",
            "Requirement already satisfied: babel>=2.10 in /usr/local/lib/python3.8/dist-packages (from jupyterlab-server<3,>=2.3.0->voila) (2.11.0)\n",
            "Collecting jinja2\n",
            "  Using cached Jinja2-3.1.2-py3-none-any.whl (133 kB)\n",
            "Requirement already satisfied: requests>=2.28 in /usr/local/lib/python3.8/dist-packages (from jupyterlab-server<3,>=2.3.0->voila) (2.28.1)\n",
            "Requirement already satisfied: pytz>=2015.7 in /usr/local/lib/python3.8/dist-packages (from babel>=2.10->jupyterlab-server<3,>=2.3.0->voila) (2022.6)\n",
            "Requirement already satisfied: zipp>=0.5 in /usr/local/lib/python3.8/dist-packages (from importlib-metadata>=4.8.3->jupyterlab-server<3,>=2.3.0->voila) (3.11.0)\n",
            "Requirement already satisfied: MarkupSafe>=2.0 in /usr/local/lib/python3.8/dist-packages (from jinja2->jupyter-server<2.0.0,>=1.18->voila) (2.0.1)\n",
            "Requirement already satisfied: attrs>=17.4.0 in /usr/local/lib/python3.8/dist-packages (from jsonschema>=3.0.1->jupyterlab-server<3,>=2.3.0->voila) (22.1.0)\n",
            "Requirement already satisfied: pyrsistent!=0.17.0,!=0.17.1,!=0.17.2,>=0.14.0 in /usr/local/lib/python3.8/dist-packages (from jsonschema>=3.0.1->jupyterlab-server<3,>=2.3.0->voila) (0.19.2)\n",
            "Requirement already satisfied: importlib-resources>=1.4.0 in /usr/local/lib/python3.8/dist-packages (from jsonschema>=3.0.1->jupyterlab-server<3,>=2.3.0->voila) (5.10.0)\n",
            "Requirement already satisfied: pandocfilters>=1.4.1 in /usr/local/lib/python3.8/dist-packages (from nbconvert<8,>=6.4.5->voila) (1.5.0)\n",
            "Requirement already satisfied: tinycss2 in /usr/local/lib/python3.8/dist-packages (from nbconvert<8,>=6.4.5->voila) (1.2.1)\n",
            "Requirement already satisfied: defusedxml in /usr/local/lib/python3.8/dist-packages (from nbconvert<8,>=6.4.5->voila) (0.7.1)\n",
            "Requirement already satisfied: bleach in /usr/local/lib/python3.8/dist-packages (from nbconvert<8,>=6.4.5->voila) (5.0.1)\n",
            "Requirement already satisfied: beautifulsoup4 in /usr/local/lib/python3.8/dist-packages (from nbconvert<8,>=6.4.5->voila) (4.6.3)\n",
            "Collecting mistune<3,>=2.0.3\n",
            "  Using cached mistune-2.0.4-py2.py3-none-any.whl (24 kB)\n",
            "Requirement already satisfied: jupyterlab-pygments in /usr/local/lib/python3.8/dist-packages (from nbconvert<8,>=6.4.5->voila) (0.2.2)\n",
            "Requirement already satisfied: pygments>=2.4.1 in /usr/local/lib/python3.8/dist-packages (from nbconvert<8,>=6.4.5->voila) (2.6.1)\n",
            "Requirement already satisfied: fastjsonschema in /usr/local/lib/python3.8/dist-packages (from nbformat>=5.2.0->jupyter-server<2.0.0,>=1.18->voila) (2.16.2)\n",
            "Requirement already satisfied: pyparsing!=3.0.5,>=2.0.2 in /usr/local/lib/python3.8/dist-packages (from packaging->jupyter-server<2.0.0,>=1.18->voila) (3.0.9)\n",
            "Requirement already satisfied: six>=1.5 in /usr/local/lib/python3.8/dist-packages (from python-dateutil>=2.1->jupyter-client<=7.4.1,>=6.1.3->voila) (1.15.0)\n",
            "Requirement already satisfied: charset-normalizer<3,>=2 in /usr/local/lib/python3.8/dist-packages (from requests>=2.28->jupyterlab-server<3,>=2.3.0->voila) (2.1.1)\n",
            "Requirement already satisfied: certifi>=2017.4.17 in /usr/local/lib/python3.8/dist-packages (from requests>=2.28->jupyterlab-server<3,>=2.3.0->voila) (2022.9.24)\n",
            "Requirement already satisfied: urllib3<1.27,>=1.21.1 in /usr/local/lib/python3.8/dist-packages (from requests>=2.28->jupyterlab-server<3,>=2.3.0->voila) (1.26.13)\n",
            "Requirement already satisfied: ptyprocess in /usr/local/lib/python3.8/dist-packages (from terminado>=0.8.3->jupyter-server<2.0.0,>=1.18->voila) (0.7.0)\n",
            "Requirement already satisfied: argon2-cffi-bindings in /usr/local/lib/python3.8/dist-packages (from argon2-cffi->jupyter-server<2.0.0,>=1.18->voila) (21.2.0)\n",
            "Requirement already satisfied: cffi>=1.0.1 in /usr/local/lib/python3.8/dist-packages (from argon2-cffi-bindings->argon2-cffi->jupyter-server<2.0.0,>=1.18->voila) (1.15.1)\n",
            "Requirement already satisfied: pycparser in /usr/local/lib/python3.8/dist-packages (from cffi>=1.0.1->argon2-cffi-bindings->argon2-cffi->jupyter-server<2.0.0,>=1.18->voila) (2.21)\n",
            "Requirement already satisfied: webencodings in /usr/local/lib/python3.8/dist-packages (from bleach->nbconvert<8,>=6.4.5->voila) (0.5.1)\n",
            "Installing collected packages: mistune, jinja2, nbconvert\n",
            "  Attempting uninstall: mistune\n",
            "    Found existing installation: mistune 0.8.4\n",
            "    Uninstalling mistune-0.8.4:\n",
            "      Successfully uninstalled mistune-0.8.4\n",
            "  Attempting uninstall: jinja2\n",
            "    Found existing installation: Jinja2 3.0.0\n",
            "    Uninstalling Jinja2-3.0.0:\n",
            "      Successfully uninstalled Jinja2-3.0.0\n",
            "  Attempting uninstall: nbconvert\n",
            "    Found existing installation: nbconvert 5.6.1\n",
            "    Uninstalling nbconvert-5.6.1:\n",
            "      Successfully uninstalled nbconvert-5.6.1\n",
            "\u001b[31mERROR: pip's dependency resolver does not currently take into account all the packages that are installed. This behaviour is the source of the following dependency conflicts.\n",
            "notebook 5.7.16 requires jinja2<=3.0.0, but you have jinja2 3.1.2 which is incompatible.\n",
            "notebook 5.7.16 requires nbconvert<6.0, but you have nbconvert 7.2.6 which is incompatible.\n",
            "google-colab 1.0.0 requires tornado~=6.0.4, but you have tornado 6.2 which is incompatible.\n",
            "flask 1.1.4 requires Jinja2<3.0,>=2.10.1, but you have jinja2 3.1.2 which is incompatible.\u001b[0m\n",
            "Successfully installed jinja2-3.1.2 mistune-2.0.4 nbconvert-7.2.6\n",
            "Enabling: voila\n",
            "- Writing config: /usr/etc/jupyter\n",
            "    - Validating...\n",
            "      voila 0.4.0 \u001b[32mOK\u001b[0m\n",
            "Looking in indexes: https://pypi.org/simple, https://us-python.pkg.dev/colab-wheels/public/simple/\n",
            "Requirement already satisfied: fastbook in /usr/local/lib/python3.8/dist-packages (0.0.29)\n",
            "Requirement already satisfied: ipywidgets<8 in /usr/local/lib/python3.8/dist-packages (from fastbook) (7.7.1)\n",
            "Requirement already satisfied: fastai>=2.6 in /usr/local/lib/python3.8/dist-packages (from fastbook) (2.7.10)\n",
            "Requirement already satisfied: graphviz in /usr/local/lib/python3.8/dist-packages (from fastbook) (0.10.1)\n",
            "Requirement already satisfied: requests in /usr/local/lib/python3.8/dist-packages (from fastbook) (2.28.1)\n",
            "Requirement already satisfied: pandas in /usr/local/lib/python3.8/dist-packages (from fastbook) (1.3.5)\n",
            "Requirement already satisfied: sentencepiece in /usr/local/lib/python3.8/dist-packages (from fastbook) (0.1.97)\n",
            "Requirement already satisfied: datasets in /usr/local/lib/python3.8/dist-packages (from fastbook) (2.7.1)\n",
            "Requirement already satisfied: pip in /usr/local/lib/python3.8/dist-packages (from fastbook) (21.1.3)\n",
            "Requirement already satisfied: packaging in /usr/local/lib/python3.8/dist-packages (from fastbook) (21.3)\n",
            "Requirement already satisfied: transformers in /usr/local/lib/python3.8/dist-packages (from fastbook) (4.25.1)\n",
            "Requirement already satisfied: torch<1.14,>=1.7 in /usr/local/lib/python3.8/dist-packages (from fastai>=2.6->fastbook) (1.13.0+cu116)\n",
            "Requirement already satisfied: scikit-learn in /usr/local/lib/python3.8/dist-packages (from fastai>=2.6->fastbook) (1.0.2)\n",
            "Requirement already satisfied: pillow>6.0.0 in /usr/local/lib/python3.8/dist-packages (from fastai>=2.6->fastbook) (7.1.2)\n",
            "Requirement already satisfied: spacy<4 in /usr/local/lib/python3.8/dist-packages (from fastai>=2.6->fastbook) (3.4.3)\n",
            "Requirement already satisfied: pyyaml in /usr/local/lib/python3.8/dist-packages (from fastai>=2.6->fastbook) (6.0)\n",
            "Requirement already satisfied: fastcore<1.6,>=1.4.5 in /usr/local/lib/python3.8/dist-packages (from fastai>=2.6->fastbook) (1.5.27)\n",
            "Requirement already satisfied: torchvision>=0.8.2 in /usr/local/lib/python3.8/dist-packages (from fastai>=2.6->fastbook) (0.14.0+cu116)\n",
            "Requirement already satisfied: fastprogress>=0.2.4 in /usr/local/lib/python3.8/dist-packages (from fastai>=2.6->fastbook) (1.0.3)\n",
            "Requirement already satisfied: matplotlib in /usr/local/lib/python3.8/dist-packages (from fastai>=2.6->fastbook) (3.2.2)\n",
            "Requirement already satisfied: fastdownload<2,>=0.0.5 in /usr/local/lib/python3.8/dist-packages (from fastai>=2.6->fastbook) (0.0.7)\n",
            "Requirement already satisfied: scipy in /usr/local/lib/python3.8/dist-packages (from fastai>=2.6->fastbook) (1.7.3)\n",
            "Requirement already satisfied: ipython-genutils~=0.2.0 in /usr/local/lib/python3.8/dist-packages (from ipywidgets<8->fastbook) (0.2.0)\n",
            "Requirement already satisfied: ipykernel>=4.5.1 in /usr/local/lib/python3.8/dist-packages (from ipywidgets<8->fastbook) (5.3.4)\n",
            "Requirement already satisfied: traitlets>=4.3.1 in /usr/local/lib/python3.8/dist-packages (from ipywidgets<8->fastbook) (5.6.0)\n",
            "Requirement already satisfied: ipython>=4.0.0 in /usr/local/lib/python3.8/dist-packages (from ipywidgets<8->fastbook) (7.9.0)\n",
            "Requirement already satisfied: jupyterlab-widgets>=1.0.0 in /usr/local/lib/python3.8/dist-packages (from ipywidgets<8->fastbook) (3.0.3)\n",
            "Requirement already satisfied: widgetsnbextension~=3.6.0 in /usr/local/lib/python3.8/dist-packages (from ipywidgets<8->fastbook) (3.6.1)\n",
            "Requirement already satisfied: tornado>=4.2 in /usr/local/lib/python3.8/dist-packages (from ipykernel>=4.5.1->ipywidgets<8->fastbook) (6.2)\n",
            "Requirement already satisfied: jupyter-client in /usr/local/lib/python3.8/dist-packages (from ipykernel>=4.5.1->ipywidgets<8->fastbook) (6.1.12)\n",
            "Requirement already satisfied: decorator in /usr/local/lib/python3.8/dist-packages (from ipython>=4.0.0->ipywidgets<8->fastbook) (4.4.2)\n",
            "Requirement already satisfied: jedi>=0.10 in /usr/local/lib/python3.8/dist-packages (from ipython>=4.0.0->ipywidgets<8->fastbook) (0.18.2)\n",
            "Requirement already satisfied: pexpect in /usr/local/lib/python3.8/dist-packages (from ipython>=4.0.0->ipywidgets<8->fastbook) (4.8.0)\n",
            "Requirement already satisfied: pygments in /usr/local/lib/python3.8/dist-packages (from ipython>=4.0.0->ipywidgets<8->fastbook) (2.6.1)\n",
            "Requirement already satisfied: backcall in /usr/local/lib/python3.8/dist-packages (from ipython>=4.0.0->ipywidgets<8->fastbook) (0.2.0)\n",
            "Requirement already satisfied: setuptools>=18.5 in /usr/local/lib/python3.8/dist-packages (from ipython>=4.0.0->ipywidgets<8->fastbook) (57.4.0)\n",
            "Requirement already satisfied: pickleshare in /usr/local/lib/python3.8/dist-packages (from ipython>=4.0.0->ipywidgets<8->fastbook) (0.7.5)\n",
            "Requirement already satisfied: prompt-toolkit<2.1.0,>=2.0.0 in /usr/local/lib/python3.8/dist-packages (from ipython>=4.0.0->ipywidgets<8->fastbook) (2.0.10)\n",
            "Requirement already satisfied: parso<0.9.0,>=0.8.0 in /usr/local/lib/python3.8/dist-packages (from jedi>=0.10->ipython>=4.0.0->ipywidgets<8->fastbook) (0.8.3)\n",
            "Requirement already satisfied: wcwidth in /usr/local/lib/python3.8/dist-packages (from prompt-toolkit<2.1.0,>=2.0.0->ipython>=4.0.0->ipywidgets<8->fastbook) (0.2.5)\n",
            "Requirement already satisfied: six>=1.9.0 in /usr/local/lib/python3.8/dist-packages (from prompt-toolkit<2.1.0,>=2.0.0->ipython>=4.0.0->ipywidgets<8->fastbook) (1.15.0)\n",
            "Requirement already satisfied: preshed<3.1.0,>=3.0.2 in /usr/local/lib/python3.8/dist-packages (from spacy<4->fastai>=2.6->fastbook) (3.0.8)\n",
            "Requirement already satisfied: srsly<3.0.0,>=2.4.3 in /usr/local/lib/python3.8/dist-packages (from spacy<4->fastai>=2.6->fastbook) (2.4.5)\n",
            "Requirement already satisfied: cymem<2.1.0,>=2.0.2 in /usr/local/lib/python3.8/dist-packages (from spacy<4->fastai>=2.6->fastbook) (2.0.7)\n",
            "Requirement already satisfied: numpy>=1.15.0 in /usr/local/lib/python3.8/dist-packages (from spacy<4->fastai>=2.6->fastbook) (1.21.6)\n",
            "Requirement already satisfied: tqdm<5.0.0,>=4.38.0 in /usr/local/lib/python3.8/dist-packages (from spacy<4->fastai>=2.6->fastbook) (4.64.1)\n",
            "Requirement already satisfied: pydantic!=1.8,!=1.8.1,<1.11.0,>=1.7.4 in /usr/local/lib/python3.8/dist-packages (from spacy<4->fastai>=2.6->fastbook) (1.10.2)\n",
            "Requirement already satisfied: pathy>=0.3.5 in /usr/local/lib/python3.8/dist-packages (from spacy<4->fastai>=2.6->fastbook) (0.10.0)\n",
            "Requirement already satisfied: langcodes<4.0.0,>=3.2.0 in /usr/local/lib/python3.8/dist-packages (from spacy<4->fastai>=2.6->fastbook) (3.3.0)\n",
            "Requirement already satisfied: wasabi<1.1.0,>=0.9.1 in /usr/local/lib/python3.8/dist-packages (from spacy<4->fastai>=2.6->fastbook) (0.10.1)\n",
            "Requirement already satisfied: catalogue<2.1.0,>=2.0.6 in /usr/local/lib/python3.8/dist-packages (from spacy<4->fastai>=2.6->fastbook) (2.0.8)\n",
            "Requirement already satisfied: spacy-loggers<2.0.0,>=1.0.0 in /usr/local/lib/python3.8/dist-packages (from spacy<4->fastai>=2.6->fastbook) (1.0.3)\n",
            "Requirement already satisfied: spacy-legacy<3.1.0,>=3.0.10 in /usr/local/lib/python3.8/dist-packages (from spacy<4->fastai>=2.6->fastbook) (3.0.10)\n",
            "Requirement already satisfied: thinc<8.2.0,>=8.1.0 in /usr/local/lib/python3.8/dist-packages (from spacy<4->fastai>=2.6->fastbook) (8.1.5)\n",
            "Requirement already satisfied: typer<0.8.0,>=0.3.0 in /usr/local/lib/python3.8/dist-packages (from spacy<4->fastai>=2.6->fastbook) (0.7.0)\n",
            "Requirement already satisfied: murmurhash<1.1.0,>=0.28.0 in /usr/local/lib/python3.8/dist-packages (from spacy<4->fastai>=2.6->fastbook) (1.0.9)\n",
            "Requirement already satisfied: jinja2 in /usr/local/lib/python3.8/dist-packages (from spacy<4->fastai>=2.6->fastbook) (3.1.2)\n",
            "Requirement already satisfied: pyparsing!=3.0.5,>=2.0.2 in /usr/local/lib/python3.8/dist-packages (from packaging->fastbook) (3.0.9)\n",
            "Requirement already satisfied: smart-open<6.0.0,>=5.2.1 in /usr/local/lib/python3.8/dist-packages (from pathy>=0.3.5->spacy<4->fastai>=2.6->fastbook) (5.2.1)\n",
            "Requirement already satisfied: typing-extensions>=4.1.0 in /usr/local/lib/python3.8/dist-packages (from pydantic!=1.8,!=1.8.1,<1.11.0,>=1.7.4->spacy<4->fastai>=2.6->fastbook) (4.4.0)\n",
            "Requirement already satisfied: idna<4,>=2.5 in /usr/local/lib/python3.8/dist-packages (from requests->fastbook) (2.10)\n",
            "Requirement already satisfied: certifi>=2017.4.17 in /usr/local/lib/python3.8/dist-packages (from requests->fastbook) (2022.9.24)\n",
            "Requirement already satisfied: charset-normalizer<3,>=2 in /usr/local/lib/python3.8/dist-packages (from requests->fastbook) (2.1.1)\n",
            "Requirement already satisfied: urllib3<1.27,>=1.21.1 in /usr/local/lib/python3.8/dist-packages (from requests->fastbook) (1.26.13)\n",
            "Requirement already satisfied: blis<0.8.0,>=0.7.8 in /usr/local/lib/python3.8/dist-packages (from thinc<8.2.0,>=8.1.0->spacy<4->fastai>=2.6->fastbook) (0.7.9)\n",
            "Requirement already satisfied: confection<1.0.0,>=0.0.1 in /usr/local/lib/python3.8/dist-packages (from thinc<8.2.0,>=8.1.0->spacy<4->fastai>=2.6->fastbook) (0.0.3)\n",
            "Requirement already satisfied: click<9.0.0,>=7.1.1 in /usr/local/lib/python3.8/dist-packages (from typer<0.8.0,>=0.3.0->spacy<4->fastai>=2.6->fastbook) (7.1.2)\n",
            "Requirement already satisfied: notebook>=4.4.1 in /usr/local/lib/python3.8/dist-packages (from widgetsnbextension~=3.6.0->ipywidgets<8->fastbook) (5.7.16)\n",
            "Collecting nbconvert<6.0\n",
            "  Using cached nbconvert-5.6.1-py2.py3-none-any.whl (455 kB)\n",
            "Requirement already satisfied: pyzmq>=17 in /usr/local/lib/python3.8/dist-packages (from notebook>=4.4.1->widgetsnbextension~=3.6.0->ipywidgets<8->fastbook) (23.2.1)\n",
            "Requirement already satisfied: terminado>=0.8.1 in /usr/local/lib/python3.8/dist-packages (from notebook>=4.4.1->widgetsnbextension~=3.6.0->ipywidgets<8->fastbook) (0.13.3)\n",
            "Collecting jinja2\n",
            "  Using cached Jinja2-3.0.0-py3-none-any.whl (133 kB)\n",
            "Requirement already satisfied: nbformat in /usr/local/lib/python3.8/dist-packages (from notebook>=4.4.1->widgetsnbextension~=3.6.0->ipywidgets<8->fastbook) (5.7.0)\n",
            "Requirement already satisfied: prometheus-client in /usr/local/lib/python3.8/dist-packages (from notebook>=4.4.1->widgetsnbextension~=3.6.0->ipywidgets<8->fastbook) (0.15.0)\n",
            "Requirement already satisfied: Send2Trash in /usr/local/lib/python3.8/dist-packages (from notebook>=4.4.1->widgetsnbextension~=3.6.0->ipywidgets<8->fastbook) (1.8.0)\n",
            "Requirement already satisfied: jupyter-core>=4.4.0 in /usr/local/lib/python3.8/dist-packages (from notebook>=4.4.1->widgetsnbextension~=3.6.0->ipywidgets<8->fastbook) (5.1.0)\n",
            "Requirement already satisfied: MarkupSafe>=2.0.0rc2 in /usr/local/lib/python3.8/dist-packages (from jinja2->spacy<4->fastai>=2.6->fastbook) (2.0.1)\n",
            "Requirement already satisfied: python-dateutil>=2.1 in /usr/local/lib/python3.8/dist-packages (from jupyter-client->ipykernel>=4.5.1->ipywidgets<8->fastbook) (2.8.2)\n",
            "Requirement already satisfied: platformdirs>=2.5 in /usr/local/lib/python3.8/dist-packages (from jupyter-core>=4.4.0->notebook>=4.4.1->widgetsnbextension~=3.6.0->ipywidgets<8->fastbook) (2.5.4)\n",
            "Requirement already satisfied: entrypoints>=0.2.2 in /usr/local/lib/python3.8/dist-packages (from nbconvert<6.0->notebook>=4.4.1->widgetsnbextension~=3.6.0->ipywidgets<8->fastbook) (0.4)\n",
            "Requirement already satisfied: bleach in /usr/local/lib/python3.8/dist-packages (from nbconvert<6.0->notebook>=4.4.1->widgetsnbextension~=3.6.0->ipywidgets<8->fastbook) (5.0.1)\n",
            "Requirement already satisfied: testpath in /usr/local/lib/python3.8/dist-packages (from nbconvert<6.0->notebook>=4.4.1->widgetsnbextension~=3.6.0->ipywidgets<8->fastbook) (0.6.0)\n",
            "Requirement already satisfied: pandocfilters>=1.4.1 in /usr/local/lib/python3.8/dist-packages (from nbconvert<6.0->notebook>=4.4.1->widgetsnbextension~=3.6.0->ipywidgets<8->fastbook) (1.5.0)\n",
            "Collecting mistune<2,>=0.8.1\n",
            "  Using cached mistune-0.8.4-py2.py3-none-any.whl (16 kB)\n",
            "Requirement already satisfied: defusedxml in /usr/local/lib/python3.8/dist-packages (from nbconvert<6.0->notebook>=4.4.1->widgetsnbextension~=3.6.0->ipywidgets<8->fastbook) (0.7.1)\n",
            "Requirement already satisfied: jsonschema>=2.6 in /usr/local/lib/python3.8/dist-packages (from nbformat->notebook>=4.4.1->widgetsnbextension~=3.6.0->ipywidgets<8->fastbook) (4.3.3)\n",
            "Requirement already satisfied: fastjsonschema in /usr/local/lib/python3.8/dist-packages (from nbformat->notebook>=4.4.1->widgetsnbextension~=3.6.0->ipywidgets<8->fastbook) (2.16.2)\n",
            "Requirement already satisfied: pyrsistent!=0.17.0,!=0.17.1,!=0.17.2,>=0.14.0 in /usr/local/lib/python3.8/dist-packages (from jsonschema>=2.6->nbformat->notebook>=4.4.1->widgetsnbextension~=3.6.0->ipywidgets<8->fastbook) (0.19.2)\n",
            "Requirement already satisfied: attrs>=17.4.0 in /usr/local/lib/python3.8/dist-packages (from jsonschema>=2.6->nbformat->notebook>=4.4.1->widgetsnbextension~=3.6.0->ipywidgets<8->fastbook) (22.1.0)\n",
            "Requirement already satisfied: importlib-resources>=1.4.0 in /usr/local/lib/python3.8/dist-packages (from jsonschema>=2.6->nbformat->notebook>=4.4.1->widgetsnbextension~=3.6.0->ipywidgets<8->fastbook) (5.10.0)\n",
            "Requirement already satisfied: zipp>=3.1.0 in /usr/local/lib/python3.8/dist-packages (from importlib-resources>=1.4.0->jsonschema>=2.6->nbformat->notebook>=4.4.1->widgetsnbextension~=3.6.0->ipywidgets<8->fastbook) (3.11.0)\n",
            "Requirement already satisfied: ptyprocess in /usr/local/lib/python3.8/dist-packages (from terminado>=0.8.1->notebook>=4.4.1->widgetsnbextension~=3.6.0->ipywidgets<8->fastbook) (0.7.0)\n",
            "Requirement already satisfied: webencodings in /usr/local/lib/python3.8/dist-packages (from bleach->nbconvert<6.0->notebook>=4.4.1->widgetsnbextension~=3.6.0->ipywidgets<8->fastbook) (0.5.1)\n",
            "Requirement already satisfied: multiprocess in /usr/local/lib/python3.8/dist-packages (from datasets->fastbook) (0.70.14)\n",
            "Requirement already satisfied: fsspec[http]>=2021.11.1 in /usr/local/lib/python3.8/dist-packages (from datasets->fastbook) (2022.11.0)\n",
            "Requirement already satisfied: pyarrow>=6.0.0 in /usr/local/lib/python3.8/dist-packages (from datasets->fastbook) (9.0.0)\n",
            "Requirement already satisfied: xxhash in /usr/local/lib/python3.8/dist-packages (from datasets->fastbook) (3.1.0)\n",
            "Requirement already satisfied: aiohttp in /usr/local/lib/python3.8/dist-packages (from datasets->fastbook) (3.8.3)\n",
            "Requirement already satisfied: responses<0.19 in /usr/local/lib/python3.8/dist-packages (from datasets->fastbook) (0.18.0)\n",
            "Requirement already satisfied: dill<0.3.7 in /usr/local/lib/python3.8/dist-packages (from datasets->fastbook) (0.3.6)\n",
            "Requirement already satisfied: huggingface-hub<1.0.0,>=0.2.0 in /usr/local/lib/python3.8/dist-packages (from datasets->fastbook) (0.11.1)\n",
            "Requirement already satisfied: multidict<7.0,>=4.5 in /usr/local/lib/python3.8/dist-packages (from aiohttp->datasets->fastbook) (6.0.3)\n",
            "Requirement already satisfied: async-timeout<5.0,>=4.0.0a3 in /usr/local/lib/python3.8/dist-packages (from aiohttp->datasets->fastbook) (4.0.2)\n",
            "Requirement already satisfied: yarl<2.0,>=1.0 in /usr/local/lib/python3.8/dist-packages (from aiohttp->datasets->fastbook) (1.8.2)\n",
            "Requirement already satisfied: frozenlist>=1.1.1 in /usr/local/lib/python3.8/dist-packages (from aiohttp->datasets->fastbook) (1.3.3)\n",
            "Requirement already satisfied: aiosignal>=1.1.2 in /usr/local/lib/python3.8/dist-packages (from aiohttp->datasets->fastbook) (1.3.1)\n",
            "Requirement already satisfied: filelock in /usr/local/lib/python3.8/dist-packages (from huggingface-hub<1.0.0,>=0.2.0->datasets->fastbook) (3.8.0)\n",
            "Requirement already satisfied: cycler>=0.10 in /usr/local/lib/python3.8/dist-packages (from matplotlib->fastai>=2.6->fastbook) (0.11.0)\n",
            "Requirement already satisfied: kiwisolver>=1.0.1 in /usr/local/lib/python3.8/dist-packages (from matplotlib->fastai>=2.6->fastbook) (1.4.4)\n",
            "Requirement already satisfied: pytz>=2017.3 in /usr/local/lib/python3.8/dist-packages (from pandas->fastbook) (2022.6)\n",
            "Requirement already satisfied: threadpoolctl>=2.0.0 in /usr/local/lib/python3.8/dist-packages (from scikit-learn->fastai>=2.6->fastbook) (3.1.0)\n",
            "Requirement already satisfied: joblib>=0.11 in /usr/local/lib/python3.8/dist-packages (from scikit-learn->fastai>=2.6->fastbook) (1.2.0)\n",
            "Requirement already satisfied: tokenizers!=0.11.3,<0.14,>=0.11.1 in /usr/local/lib/python3.8/dist-packages (from transformers->fastbook) (0.13.2)\n",
            "Requirement already satisfied: regex!=2019.12.17 in /usr/local/lib/python3.8/dist-packages (from transformers->fastbook) (2022.6.2)\n",
            "Installing collected packages: mistune, jinja2, nbconvert\n",
            "  Attempting uninstall: mistune\n",
            "    Found existing installation: mistune 2.0.4\n",
            "    Uninstalling mistune-2.0.4:\n",
            "      Successfully uninstalled mistune-2.0.4\n",
            "  Attempting uninstall: jinja2\n",
            "    Found existing installation: Jinja2 3.1.2\n",
            "    Uninstalling Jinja2-3.1.2:\n",
            "      Successfully uninstalled Jinja2-3.1.2\n",
            "  Attempting uninstall: nbconvert\n",
            "    Found existing installation: nbconvert 7.2.6\n",
            "    Uninstalling nbconvert-7.2.6:\n",
            "      Successfully uninstalled nbconvert-7.2.6\n",
            "\u001b[31mERROR: pip's dependency resolver does not currently take into account all the packages that are installed. This behaviour is the source of the following dependency conflicts.\n",
            "voila 0.4.0 requires nbconvert<8,>=6.4.5, but you have nbconvert 5.6.1 which is incompatible.\n",
            "jupyterlab-server 2.16.5 requires jinja2>=3.0.3, but you have jinja2 3.0.0 which is incompatible.\n",
            "jupyter-server 1.23.3 requires nbconvert>=6.4.4, but you have nbconvert 5.6.1 which is incompatible.\n",
            "google-colab 1.0.0 requires tornado~=6.0.4, but you have tornado 6.2 which is incompatible.\n",
            "flask 1.1.4 requires Jinja2<3.0,>=2.10.1, but you have jinja2 3.0.0 which is incompatible.\u001b[0m\n",
            "Successfully installed jinja2-3.0.0 mistune-0.8.4 nbconvert-5.6.1\n"
          ]
        }
      ],
      "source": [
        "import IPython\n",
        "import ipywidgets as widgets\n",
        "!pip install voila\n",
        "!jupyter serverextension enable --sys-prefix voila\n",
        "! pip install fastbook"
      ]
    },
    {
      "cell_type": "code",
      "source": [
        "from fastai.vision import *\n",
        "from fastbook import *"
      ],
      "metadata": {
        "id": "1gqwluJNqNd6"
      },
      "execution_count": 45,
      "outputs": []
    },
    {
      "cell_type": "markdown",
      "metadata": {
        "id": "gTGKv_-Ek4hT"
      },
      "source": [
        "# What maker is this car?\n",
        "Ahmed is a secondary school student in Lagos. He needs to get a side job to support his single mom and little sister. He got a job as a survey assistant. His first task is to find out if some set of pictures contain Mercedes or Honda cars. Cool, right?\n",
        "\n",
        "\n",
        "But Ahmed can barely identify all the hundreds of models these car giants have released over the years. He definitely needs someone who can identify any Honda or Mercedes from any angle or he's going to be turning in unreliable reports to his supervisor. And NO!, he can't share his wage with anyone. \n",
        "\n",
        "\n",
        "What's the way out? \n",
        "\n",
        "\n",
        "## THE MERCEDES-HONDA IDENTIFIER! \n",
        "\n",
        "Ahmed got an intelligent friend who is more efficient at knowing Mercedes and Honda cars, no matter their posture. Not only that, his new friend doesn't need money.\n",
        "\n",
        "Test Ahmed's new intelligent friend and see how intelligent his friend is!"
      ]
    },
    {
      "cell_type": "code",
      "execution_count": 46,
      "metadata": {
        "id": "Y6DQsaoXk4hZ"
      },
      "outputs": [],
      "source": [
        "learner_inf = load_learner('/content/drive/MyDrive/Colab Notebooks/Cars/car_model_identifier.pkl') \n",
        " "
      ]
    },
    {
      "cell_type": "code",
      "source": [
        "from google.colab import drive\n",
        "drive.mount('/content/drive')"
      ],
      "metadata": {
        "colab": {
          "base_uri": "https://localhost:8080/"
        },
        "id": "AYtlR4XQphB9",
        "outputId": "52b297a3-c443-446f-ffba-f7e3c57f1fd4"
      },
      "execution_count": 47,
      "outputs": [
        {
          "output_type": "stream",
          "name": "stdout",
          "text": [
            "Drive already mounted at /content/drive; to attempt to forcibly remount, call drive.mount(\"/content/drive\", force_remount=True).\n"
          ]
        }
      ]
    },
    {
      "cell_type": "code",
      "execution_count": 48,
      "metadata": {
        "colab": {
          "base_uri": "https://localhost:8080/",
          "height": 49,
          "referenced_widgets": [
            "c8ad0a9ac133412b939b7b32c3ab3f16",
            "6b639eebaddd4736b6f049cab0eb726c",
            "978f8d2e067644e3904a9d27b2826e3d"
          ]
        },
        "id": "yE-87DpSk4he",
        "outputId": "2d4084c5-5382-41e6-9849-be971785e748"
      },
      "outputs": [
        {
          "output_type": "display_data",
          "data": {
            "text/plain": [
              "FileUpload(value={}, description='Upload')"
            ],
            "application/vnd.jupyter.widget-view+json": {
              "version_major": 2,
              "version_minor": 0,
              "model_id": "c8ad0a9ac133412b939b7b32c3ab3f16"
            }
          },
          "metadata": {}
        }
      ],
      "source": [
        "btn_upload = widgets.FileUpload()\n",
        "btn_upload"
      ]
    },
    {
      "cell_type": "code",
      "execution_count": 49,
      "metadata": {
        "id": "vr6E9qZek4hi"
      },
      "outputs": [],
      "source": [
        "output = widgets.Output()\n"
      ]
    },
    {
      "cell_type": "code",
      "execution_count": 50,
      "metadata": {
        "id": "h8fWejGPk4hl"
      },
      "outputs": [],
      "source": [
        "label_pred = widgets.Label()\n"
      ]
    },
    {
      "cell_type": "code",
      "execution_count": 51,
      "metadata": {
        "id": "YaGsN3b7k4hn"
      },
      "outputs": [],
      "source": [
        "btn_run = widgets.Button(description='Classify')"
      ]
    },
    {
      "cell_type": "code",
      "execution_count": 55,
      "metadata": {
        "id": "Ki4f__pUk4hq"
      },
      "outputs": [],
      "source": [
        "def on_click_classify(change):\n",
        "    image = PILImage.create(btn_upload.data[-1])\n",
        "    output.clear_output()\n",
        "    with output:\n",
        "        display(image.to_thumb(128, 128)) # Don't forget this line\n",
        "    pred, pred_idx, probs = learner_inf.predict(image)\n",
        "    label_pred.value = f'Prediction: {pred}; Probability: {probs[pred_idx]:.04f}'\n",
        "    \n",
        "btn_run.on_click(on_click_classify)"
      ]
    },
    {
      "cell_type": "code",
      "execution_count": 56,
      "metadata": {
        "colab": {
          "base_uri": "https://localhost:8080/",
          "height": 49,
          "referenced_widgets": [
            "6256f64e531d48b3bb16b11d739248b8",
            "d5e75384ed5d452c8169b95d9543cafd",
            "ada410c1822d4aaf81c533ce882f6dae"
          ]
        },
        "id": "l6pqVpOVk4hs",
        "outputId": "3c96d5af-9c1c-4d20-bbad-9c4f1fff005f"
      },
      "outputs": [
        {
          "output_type": "display_data",
          "data": {
            "text/plain": [
              "Button(description='Classify', style=ButtonStyle())"
            ],
            "application/vnd.jupyter.widget-view+json": {
              "version_major": 2,
              "version_minor": 0,
              "model_id": "6256f64e531d48b3bb16b11d739248b8"
            }
          },
          "metadata": {}
        },
        {
          "output_type": "display_data",
          "data": {
            "text/plain": [
              "<IPython.core.display.HTML object>"
            ],
            "text/html": [
              "\n",
              "<style>\n",
              "    /* Turns off some styling */\n",
              "    progress {\n",
              "        /* gets rid of default border in Firefox and Opera. */\n",
              "        border: none;\n",
              "        /* Needs to be in here for Safari polyfill so background images work as expected. */\n",
              "        background-size: auto;\n",
              "    }\n",
              "    progress:not([value]), progress:not([value])::-webkit-progress-bar {\n",
              "        background: repeating-linear-gradient(45deg, #7e7e7e, #7e7e7e 10px, #5c5c5c 10px, #5c5c5c 20px);\n",
              "    }\n",
              "    .progress-bar-interrupted, .progress-bar-interrupted::-webkit-progress-bar {\n",
              "        background: #F44336;\n",
              "    }\n",
              "</style>\n"
            ]
          },
          "metadata": {}
        },
        {
          "output_type": "display_data",
          "data": {
            "text/plain": [
              "<IPython.core.display.HTML object>"
            ],
            "text/html": []
          },
          "metadata": {}
        },
        {
          "output_type": "display_data",
          "data": {
            "text/plain": [
              "<IPython.core.display.HTML object>"
            ],
            "text/html": [
              "\n",
              "<style>\n",
              "    /* Turns off some styling */\n",
              "    progress {\n",
              "        /* gets rid of default border in Firefox and Opera. */\n",
              "        border: none;\n",
              "        /* Needs to be in here for Safari polyfill so background images work as expected. */\n",
              "        background-size: auto;\n",
              "    }\n",
              "    progress:not([value]), progress:not([value])::-webkit-progress-bar {\n",
              "        background: repeating-linear-gradient(45deg, #7e7e7e, #7e7e7e 10px, #5c5c5c 10px, #5c5c5c 20px);\n",
              "    }\n",
              "    .progress-bar-interrupted, .progress-bar-interrupted::-webkit-progress-bar {\n",
              "        background: #F44336;\n",
              "    }\n",
              "</style>\n"
            ]
          },
          "metadata": {}
        },
        {
          "output_type": "display_data",
          "data": {
            "text/plain": [
              "<IPython.core.display.HTML object>"
            ],
            "text/html": []
          },
          "metadata": {}
        }
      ],
      "source": [
        "btn_run"
      ]
    },
    {
      "cell_type": "code",
      "execution_count": 54,
      "metadata": {
        "colab": {
          "base_uri": "https://localhost:8080/",
          "height": 230,
          "referenced_widgets": [
            "2a5d6f84c7694972aac8192b2079505d",
            "97b581bff618452abf62ea7258279cd4",
            "c8ad0a9ac133412b939b7b32c3ab3f16",
            "6256f64e531d48b3bb16b11d739248b8",
            "9b75a04821054f9ab77c1d4d06abd223",
            "8c476269b6e247748d0f7c75f69e3f06",
            "dd58fd27f3af4b8ab06433b60280fb74",
            "42fdb63b378c40e4a267aa844f5a4169",
            "b2703b673bea4c13b617516e41cc327b",
            "6b639eebaddd4736b6f049cab0eb726c",
            "978f8d2e067644e3904a9d27b2826e3d",
            "d5e75384ed5d452c8169b95d9543cafd",
            "ada410c1822d4aaf81c533ce882f6dae",
            "0613179d93624e2483833e6bf90b07cd",
            "0dc91811654d4523ba1135c6509a1b48",
            "e3ce8f4fb4394edc828e29c98cdc7f90"
          ]
        },
        "id": "yRQohI7mk4hz",
        "outputId": "53251887-0f8d-4e65-9ecc-2f18ff7c0aef"
      },
      "outputs": [
        {
          "output_type": "display_data",
          "data": {
            "text/plain": [
              "VBox(children=(Label(value='Select your car image!'), FileUpload(value={}, description='Upload'), Button(descr…"
            ],
            "application/vnd.jupyter.widget-view+json": {
              "version_major": 2,
              "version_minor": 0,
              "model_id": "2a5d6f84c7694972aac8192b2079505d"
            }
          },
          "metadata": {}
        },
        {
          "output_type": "display_data",
          "data": {
            "text/plain": [
              "<IPython.core.display.HTML object>"
            ],
            "text/html": [
              "\n",
              "<style>\n",
              "    /* Turns off some styling */\n",
              "    progress {\n",
              "        /* gets rid of default border in Firefox and Opera. */\n",
              "        border: none;\n",
              "        /* Needs to be in here for Safari polyfill so background images work as expected. */\n",
              "        background-size: auto;\n",
              "    }\n",
              "    progress:not([value]), progress:not([value])::-webkit-progress-bar {\n",
              "        background: repeating-linear-gradient(45deg, #7e7e7e, #7e7e7e 10px, #5c5c5c 10px, #5c5c5c 20px);\n",
              "    }\n",
              "    .progress-bar-interrupted, .progress-bar-interrupted::-webkit-progress-bar {\n",
              "        background: #F44336;\n",
              "    }\n",
              "</style>\n"
            ]
          },
          "metadata": {}
        },
        {
          "output_type": "display_data",
          "data": {
            "text/plain": [
              "<IPython.core.display.HTML object>"
            ],
            "text/html": []
          },
          "metadata": {}
        },
        {
          "output_type": "display_data",
          "data": {
            "text/plain": [
              "<IPython.core.display.HTML object>"
            ],
            "text/html": [
              "\n",
              "<style>\n",
              "    /* Turns off some styling */\n",
              "    progress {\n",
              "        /* gets rid of default border in Firefox and Opera. */\n",
              "        border: none;\n",
              "        /* Needs to be in here for Safari polyfill so background images work as expected. */\n",
              "        background-size: auto;\n",
              "    }\n",
              "    progress:not([value]), progress:not([value])::-webkit-progress-bar {\n",
              "        background: repeating-linear-gradient(45deg, #7e7e7e, #7e7e7e 10px, #5c5c5c 10px, #5c5c5c 20px);\n",
              "    }\n",
              "    .progress-bar-interrupted, .progress-bar-interrupted::-webkit-progress-bar {\n",
              "        background: #F44336;\n",
              "    }\n",
              "</style>\n"
            ]
          },
          "metadata": {}
        },
        {
          "output_type": "display_data",
          "data": {
            "text/plain": [
              "<IPython.core.display.HTML object>"
            ],
            "text/html": []
          },
          "metadata": {}
        },
        {
          "output_type": "display_data",
          "data": {
            "text/plain": [
              "<IPython.core.display.HTML object>"
            ],
            "text/html": [
              "\n",
              "<style>\n",
              "    /* Turns off some styling */\n",
              "    progress {\n",
              "        /* gets rid of default border in Firefox and Opera. */\n",
              "        border: none;\n",
              "        /* Needs to be in here for Safari polyfill so background images work as expected. */\n",
              "        background-size: auto;\n",
              "    }\n",
              "    progress:not([value]), progress:not([value])::-webkit-progress-bar {\n",
              "        background: repeating-linear-gradient(45deg, #7e7e7e, #7e7e7e 10px, #5c5c5c 10px, #5c5c5c 20px);\n",
              "    }\n",
              "    .progress-bar-interrupted, .progress-bar-interrupted::-webkit-progress-bar {\n",
              "        background: #F44336;\n",
              "    }\n",
              "</style>\n"
            ]
          },
          "metadata": {}
        },
        {
          "output_type": "display_data",
          "data": {
            "text/plain": [
              "<IPython.core.display.HTML object>"
            ],
            "text/html": []
          },
          "metadata": {}
        },
        {
          "output_type": "display_data",
          "data": {
            "text/plain": [
              "<IPython.core.display.HTML object>"
            ],
            "text/html": [
              "\n",
              "<style>\n",
              "    /* Turns off some styling */\n",
              "    progress {\n",
              "        /* gets rid of default border in Firefox and Opera. */\n",
              "        border: none;\n",
              "        /* Needs to be in here for Safari polyfill so background images work as expected. */\n",
              "        background-size: auto;\n",
              "    }\n",
              "    progress:not([value]), progress:not([value])::-webkit-progress-bar {\n",
              "        background: repeating-linear-gradient(45deg, #7e7e7e, #7e7e7e 10px, #5c5c5c 10px, #5c5c5c 20px);\n",
              "    }\n",
              "    .progress-bar-interrupted, .progress-bar-interrupted::-webkit-progress-bar {\n",
              "        background: #F44336;\n",
              "    }\n",
              "</style>\n"
            ]
          },
          "metadata": {}
        },
        {
          "output_type": "display_data",
          "data": {
            "text/plain": [
              "<IPython.core.display.HTML object>"
            ],
            "text/html": []
          },
          "metadata": {}
        },
        {
          "output_type": "display_data",
          "data": {
            "text/plain": [
              "<IPython.core.display.HTML object>"
            ],
            "text/html": [
              "\n",
              "<style>\n",
              "    /* Turns off some styling */\n",
              "    progress {\n",
              "        /* gets rid of default border in Firefox and Opera. */\n",
              "        border: none;\n",
              "        /* Needs to be in here for Safari polyfill so background images work as expected. */\n",
              "        background-size: auto;\n",
              "    }\n",
              "    progress:not([value]), progress:not([value])::-webkit-progress-bar {\n",
              "        background: repeating-linear-gradient(45deg, #7e7e7e, #7e7e7e 10px, #5c5c5c 10px, #5c5c5c 20px);\n",
              "    }\n",
              "    .progress-bar-interrupted, .progress-bar-interrupted::-webkit-progress-bar {\n",
              "        background: #F44336;\n",
              "    }\n",
              "</style>\n"
            ]
          },
          "metadata": {}
        },
        {
          "output_type": "display_data",
          "data": {
            "text/plain": [
              "<IPython.core.display.HTML object>"
            ],
            "text/html": []
          },
          "metadata": {}
        },
        {
          "output_type": "display_data",
          "data": {
            "text/plain": [
              "<IPython.core.display.HTML object>"
            ],
            "text/html": [
              "\n",
              "<style>\n",
              "    /* Turns off some styling */\n",
              "    progress {\n",
              "        /* gets rid of default border in Firefox and Opera. */\n",
              "        border: none;\n",
              "        /* Needs to be in here for Safari polyfill so background images work as expected. */\n",
              "        background-size: auto;\n",
              "    }\n",
              "    progress:not([value]), progress:not([value])::-webkit-progress-bar {\n",
              "        background: repeating-linear-gradient(45deg, #7e7e7e, #7e7e7e 10px, #5c5c5c 10px, #5c5c5c 20px);\n",
              "    }\n",
              "    .progress-bar-interrupted, .progress-bar-interrupted::-webkit-progress-bar {\n",
              "        background: #F44336;\n",
              "    }\n",
              "</style>\n"
            ]
          },
          "metadata": {}
        },
        {
          "output_type": "display_data",
          "data": {
            "text/plain": [
              "<IPython.core.display.HTML object>"
            ],
            "text/html": []
          },
          "metadata": {}
        }
      ],
      "source": [
        "widgets.VBox([\n",
        "    widgets.Label('Select your car image!'),\n",
        "    btn_upload,\n",
        "    btn_run,\n",
        "    output,\n",
        "    label_pred\n",
        "])"
      ]
    }
  ],
  "metadata": {
    "kernelspec": {
      "display_name": "Python 3.10.8 64-bit (microsoft store)",
      "language": "python",
      "name": "python3"
    },
    "language_info": {
      "codemirror_mode": {
        "name": "ipython",
        "version": 3
      },
      "file_extension": ".py",
      "mimetype": "text/x-python",
      "name": "python",
      "nbconvert_exporter": "python",
      "pygments_lexer": "ipython3",
      "version": "3.10.8"
    },
    "orig_nbformat": 4,
    "vscode": {
      "interpreter": {
        "hash": "e0acaf148705ed9ed86cc5cad12259d7985e30670e5686e5f55604a9b3b84a55"
      }
    },
    "colab": {
      "provenance": [],
      "toc_visible": true,
      "include_colab_link": true
    },
    "widgets": {
      "application/vnd.jupyter.widget-state+json": {
        "c8ad0a9ac133412b939b7b32c3ab3f16": {
          "model_module": "@jupyter-widgets/controls",
          "model_name": "FileUploadModel",
          "model_module_version": "1.5.0",
          "state": {
            "_counter": 3,
            "_dom_classes": [],
            "_model_module": "@jupyter-widgets/controls",
            "_model_module_version": "1.5.0",
            "_model_name": "FileUploadModel",
            "_view_count": null,
            "_view_module": "@jupyter-widgets/controls",
            "_view_module_version": "1.5.0",
            "_view_name": "FileUploadView",
            "accept": "",
            "button_style": "",
            "data": [
              null
            ],
            "description": "Upload",
            "description_tooltip": null,
            "disabled": false,
            "error": "",
            "icon": "upload",
            "layout": "IPY_MODEL_6b639eebaddd4736b6f049cab0eb726c",
            "metadata": [
              {
                "name": "download (8).png",
                "type": "image/png",
                "size": 9518,
                "lastModified": 1670387828931
              }
            ],
            "multiple": false,
            "style": "IPY_MODEL_978f8d2e067644e3904a9d27b2826e3d"
          }
        },
        "6b639eebaddd4736b6f049cab0eb726c": {
          "model_module": "@jupyter-widgets/base",
          "model_name": "LayoutModel",
          "model_module_version": "1.2.0",
          "state": {
            "_model_module": "@jupyter-widgets/base",
            "_model_module_version": "1.2.0",
            "_model_name": "LayoutModel",
            "_view_count": null,
            "_view_module": "@jupyter-widgets/base",
            "_view_module_version": "1.2.0",
            "_view_name": "LayoutView",
            "align_content": null,
            "align_items": null,
            "align_self": null,
            "border": null,
            "bottom": null,
            "display": null,
            "flex": null,
            "flex_flow": null,
            "grid_area": null,
            "grid_auto_columns": null,
            "grid_auto_flow": null,
            "grid_auto_rows": null,
            "grid_column": null,
            "grid_gap": null,
            "grid_row": null,
            "grid_template_areas": null,
            "grid_template_columns": null,
            "grid_template_rows": null,
            "height": null,
            "justify_content": null,
            "justify_items": null,
            "left": null,
            "margin": null,
            "max_height": null,
            "max_width": null,
            "min_height": null,
            "min_width": null,
            "object_fit": null,
            "object_position": null,
            "order": null,
            "overflow": null,
            "overflow_x": null,
            "overflow_y": null,
            "padding": null,
            "right": null,
            "top": null,
            "visibility": null,
            "width": null
          }
        },
        "978f8d2e067644e3904a9d27b2826e3d": {
          "model_module": "@jupyter-widgets/controls",
          "model_name": "ButtonStyleModel",
          "model_module_version": "1.5.0",
          "state": {
            "_model_module": "@jupyter-widgets/controls",
            "_model_module_version": "1.5.0",
            "_model_name": "ButtonStyleModel",
            "_view_count": null,
            "_view_module": "@jupyter-widgets/base",
            "_view_module_version": "1.2.0",
            "_view_name": "StyleView",
            "button_color": null,
            "font_weight": ""
          }
        },
        "6256f64e531d48b3bb16b11d739248b8": {
          "model_module": "@jupyter-widgets/controls",
          "model_name": "ButtonModel",
          "model_module_version": "1.5.0",
          "state": {
            "_dom_classes": [],
            "_model_module": "@jupyter-widgets/controls",
            "_model_module_version": "1.5.0",
            "_model_name": "ButtonModel",
            "_view_count": null,
            "_view_module": "@jupyter-widgets/controls",
            "_view_module_version": "1.5.0",
            "_view_name": "ButtonView",
            "button_style": "",
            "description": "Classify",
            "disabled": false,
            "icon": "",
            "layout": "IPY_MODEL_d5e75384ed5d452c8169b95d9543cafd",
            "style": "IPY_MODEL_ada410c1822d4aaf81c533ce882f6dae",
            "tooltip": ""
          }
        },
        "d5e75384ed5d452c8169b95d9543cafd": {
          "model_module": "@jupyter-widgets/base",
          "model_name": "LayoutModel",
          "model_module_version": "1.2.0",
          "state": {
            "_model_module": "@jupyter-widgets/base",
            "_model_module_version": "1.2.0",
            "_model_name": "LayoutModel",
            "_view_count": null,
            "_view_module": "@jupyter-widgets/base",
            "_view_module_version": "1.2.0",
            "_view_name": "LayoutView",
            "align_content": null,
            "align_items": null,
            "align_self": null,
            "border": null,
            "bottom": null,
            "display": null,
            "flex": null,
            "flex_flow": null,
            "grid_area": null,
            "grid_auto_columns": null,
            "grid_auto_flow": null,
            "grid_auto_rows": null,
            "grid_column": null,
            "grid_gap": null,
            "grid_row": null,
            "grid_template_areas": null,
            "grid_template_columns": null,
            "grid_template_rows": null,
            "height": null,
            "justify_content": null,
            "justify_items": null,
            "left": null,
            "margin": null,
            "max_height": null,
            "max_width": null,
            "min_height": null,
            "min_width": null,
            "object_fit": null,
            "object_position": null,
            "order": null,
            "overflow": null,
            "overflow_x": null,
            "overflow_y": null,
            "padding": null,
            "right": null,
            "top": null,
            "visibility": null,
            "width": null
          }
        },
        "ada410c1822d4aaf81c533ce882f6dae": {
          "model_module": "@jupyter-widgets/controls",
          "model_name": "ButtonStyleModel",
          "model_module_version": "1.5.0",
          "state": {
            "_model_module": "@jupyter-widgets/controls",
            "_model_module_version": "1.5.0",
            "_model_name": "ButtonStyleModel",
            "_view_count": null,
            "_view_module": "@jupyter-widgets/base",
            "_view_module_version": "1.2.0",
            "_view_name": "StyleView",
            "button_color": null,
            "font_weight": ""
          }
        },
        "2a5d6f84c7694972aac8192b2079505d": {
          "model_module": "@jupyter-widgets/controls",
          "model_name": "VBoxModel",
          "model_module_version": "1.5.0",
          "state": {
            "_dom_classes": [],
            "_model_module": "@jupyter-widgets/controls",
            "_model_module_version": "1.5.0",
            "_model_name": "VBoxModel",
            "_view_count": null,
            "_view_module": "@jupyter-widgets/controls",
            "_view_module_version": "1.5.0",
            "_view_name": "VBoxView",
            "box_style": "",
            "children": [
              "IPY_MODEL_97b581bff618452abf62ea7258279cd4",
              "IPY_MODEL_c8ad0a9ac133412b939b7b32c3ab3f16",
              "IPY_MODEL_6256f64e531d48b3bb16b11d739248b8",
              "IPY_MODEL_9b75a04821054f9ab77c1d4d06abd223",
              "IPY_MODEL_8c476269b6e247748d0f7c75f69e3f06"
            ],
            "layout": "IPY_MODEL_dd58fd27f3af4b8ab06433b60280fb74"
          }
        },
        "97b581bff618452abf62ea7258279cd4": {
          "model_module": "@jupyter-widgets/controls",
          "model_name": "LabelModel",
          "model_module_version": "1.5.0",
          "state": {
            "_dom_classes": [],
            "_model_module": "@jupyter-widgets/controls",
            "_model_module_version": "1.5.0",
            "_model_name": "LabelModel",
            "_view_count": null,
            "_view_module": "@jupyter-widgets/controls",
            "_view_module_version": "1.5.0",
            "_view_name": "LabelView",
            "description": "",
            "description_tooltip": null,
            "layout": "IPY_MODEL_42fdb63b378c40e4a267aa844f5a4169",
            "placeholder": "​",
            "style": "IPY_MODEL_b2703b673bea4c13b617516e41cc327b",
            "value": "Select your car image!"
          }
        },
        "9b75a04821054f9ab77c1d4d06abd223": {
          "model_module": "@jupyter-widgets/output",
          "model_name": "OutputModel",
          "model_module_version": "1.0.0",
          "state": {
            "_dom_classes": [],
            "_model_module": "@jupyter-widgets/output",
            "_model_module_version": "1.0.0",
            "_model_name": "OutputModel",
            "_view_count": null,
            "_view_module": "@jupyter-widgets/output",
            "_view_module_version": "1.0.0",
            "_view_name": "OutputView",
            "layout": "IPY_MODEL_e3ce8f4fb4394edc828e29c98cdc7f90",
            "msg_id": "",
            "outputs": [
              {
                "output_type": "display_data",
                "data": {
                  "text/plain": "<PIL.Image.Image image mode=RGB size=128x85>",
                  "image/png": "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\n"
                },
                "metadata": {}
              }
            ]
          }
        },
        "8c476269b6e247748d0f7c75f69e3f06": {
          "model_module": "@jupyter-widgets/controls",
          "model_name": "LabelModel",
          "model_module_version": "1.5.0",
          "state": {
            "_dom_classes": [],
            "_model_module": "@jupyter-widgets/controls",
            "_model_module_version": "1.5.0",
            "_model_name": "LabelModel",
            "_view_count": null,
            "_view_module": "@jupyter-widgets/controls",
            "_view_module_version": "1.5.0",
            "_view_name": "LabelView",
            "description": "",
            "description_tooltip": null,
            "layout": "IPY_MODEL_0613179d93624e2483833e6bf90b07cd",
            "placeholder": "​",
            "style": "IPY_MODEL_0dc91811654d4523ba1135c6509a1b48",
            "value": "Prediction: Honda; Probability: 0.8831"
          }
        },
        "dd58fd27f3af4b8ab06433b60280fb74": {
          "model_module": "@jupyter-widgets/base",
          "model_name": "LayoutModel",
          "model_module_version": "1.2.0",
          "state": {
            "_model_module": "@jupyter-widgets/base",
            "_model_module_version": "1.2.0",
            "_model_name": "LayoutModel",
            "_view_count": null,
            "_view_module": "@jupyter-widgets/base",
            "_view_module_version": "1.2.0",
            "_view_name": "LayoutView",
            "align_content": null,
            "align_items": null,
            "align_self": null,
            "border": null,
            "bottom": null,
            "display": null,
            "flex": null,
            "flex_flow": null,
            "grid_area": null,
            "grid_auto_columns": null,
            "grid_auto_flow": null,
            "grid_auto_rows": null,
            "grid_column": null,
            "grid_gap": null,
            "grid_row": null,
            "grid_template_areas": null,
            "grid_template_columns": null,
            "grid_template_rows": null,
            "height": null,
            "justify_content": null,
            "justify_items": null,
            "left": null,
            "margin": null,
            "max_height": null,
            "max_width": null,
            "min_height": null,
            "min_width": null,
            "object_fit": null,
            "object_position": null,
            "order": null,
            "overflow": null,
            "overflow_x": null,
            "overflow_y": null,
            "padding": null,
            "right": null,
            "top": null,
            "visibility": null,
            "width": null
          }
        },
        "42fdb63b378c40e4a267aa844f5a4169": {
          "model_module": "@jupyter-widgets/base",
          "model_name": "LayoutModel",
          "model_module_version": "1.2.0",
          "state": {
            "_model_module": "@jupyter-widgets/base",
            "_model_module_version": "1.2.0",
            "_model_name": "LayoutModel",
            "_view_count": null,
            "_view_module": "@jupyter-widgets/base",
            "_view_module_version": "1.2.0",
            "_view_name": "LayoutView",
            "align_content": null,
            "align_items": null,
            "align_self": null,
            "border": null,
            "bottom": null,
            "display": null,
            "flex": null,
            "flex_flow": null,
            "grid_area": null,
            "grid_auto_columns": null,
            "grid_auto_flow": null,
            "grid_auto_rows": null,
            "grid_column": null,
            "grid_gap": null,
            "grid_row": null,
            "grid_template_areas": null,
            "grid_template_columns": null,
            "grid_template_rows": null,
            "height": null,
            "justify_content": null,
            "justify_items": null,
            "left": null,
            "margin": null,
            "max_height": null,
            "max_width": null,
            "min_height": null,
            "min_width": null,
            "object_fit": null,
            "object_position": null,
            "order": null,
            "overflow": null,
            "overflow_x": null,
            "overflow_y": null,
            "padding": null,
            "right": null,
            "top": null,
            "visibility": null,
            "width": null
          }
        },
        "b2703b673bea4c13b617516e41cc327b": {
          "model_module": "@jupyter-widgets/controls",
          "model_name": "DescriptionStyleModel",
          "model_module_version": "1.5.0",
          "state": {
            "_model_module": "@jupyter-widgets/controls",
            "_model_module_version": "1.5.0",
            "_model_name": "DescriptionStyleModel",
            "_view_count": null,
            "_view_module": "@jupyter-widgets/base",
            "_view_module_version": "1.2.0",
            "_view_name": "StyleView",
            "description_width": ""
          }
        },
        "0613179d93624e2483833e6bf90b07cd": {
          "model_module": "@jupyter-widgets/base",
          "model_name": "LayoutModel",
          "model_module_version": "1.2.0",
          "state": {
            "_model_module": "@jupyter-widgets/base",
            "_model_module_version": "1.2.0",
            "_model_name": "LayoutModel",
            "_view_count": null,
            "_view_module": "@jupyter-widgets/base",
            "_view_module_version": "1.2.0",
            "_view_name": "LayoutView",
            "align_content": null,
            "align_items": null,
            "align_self": null,
            "border": null,
            "bottom": null,
            "display": null,
            "flex": null,
            "flex_flow": null,
            "grid_area": null,
            "grid_auto_columns": null,
            "grid_auto_flow": null,
            "grid_auto_rows": null,
            "grid_column": null,
            "grid_gap": null,
            "grid_row": null,
            "grid_template_areas": null,
            "grid_template_columns": null,
            "grid_template_rows": null,
            "height": null,
            "justify_content": null,
            "justify_items": null,
            "left": null,
            "margin": null,
            "max_height": null,
            "max_width": null,
            "min_height": null,
            "min_width": null,
            "object_fit": null,
            "object_position": null,
            "order": null,
            "overflow": null,
            "overflow_x": null,
            "overflow_y": null,
            "padding": null,
            "right": null,
            "top": null,
            "visibility": null,
            "width": null
          }
        },
        "0dc91811654d4523ba1135c6509a1b48": {
          "model_module": "@jupyter-widgets/controls",
          "model_name": "DescriptionStyleModel",
          "model_module_version": "1.5.0",
          "state": {
            "_model_module": "@jupyter-widgets/controls",
            "_model_module_version": "1.5.0",
            "_model_name": "DescriptionStyleModel",
            "_view_count": null,
            "_view_module": "@jupyter-widgets/base",
            "_view_module_version": "1.2.0",
            "_view_name": "StyleView",
            "description_width": ""
          }
        },
        "e3ce8f4fb4394edc828e29c98cdc7f90": {
          "model_module": "@jupyter-widgets/base",
          "model_name": "LayoutModel",
          "model_module_version": "1.2.0",
          "state": {
            "_model_module": "@jupyter-widgets/base",
            "_model_module_version": "1.2.0",
            "_model_name": "LayoutModel",
            "_view_count": null,
            "_view_module": "@jupyter-widgets/base",
            "_view_module_version": "1.2.0",
            "_view_name": "LayoutView",
            "align_content": null,
            "align_items": null,
            "align_self": null,
            "border": null,
            "bottom": null,
            "display": null,
            "flex": null,
            "flex_flow": null,
            "grid_area": null,
            "grid_auto_columns": null,
            "grid_auto_flow": null,
            "grid_auto_rows": null,
            "grid_column": null,
            "grid_gap": null,
            "grid_row": null,
            "grid_template_areas": null,
            "grid_template_columns": null,
            "grid_template_rows": null,
            "height": null,
            "justify_content": null,
            "justify_items": null,
            "left": null,
            "margin": null,
            "max_height": null,
            "max_width": null,
            "min_height": null,
            "min_width": null,
            "object_fit": null,
            "object_position": null,
            "order": null,
            "overflow": null,
            "overflow_x": null,
            "overflow_y": null,
            "padding": null,
            "right": null,
            "top": null,
            "visibility": null,
            "width": null
          }
        }
      }
    }
  },
  "nbformat": 4,
  "nbformat_minor": 0
}